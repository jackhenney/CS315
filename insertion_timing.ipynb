{
  "cells": [
    {
      "cell_type": "code",
      "metadata": {
        "id": "qrxKqRorVx8X"
      },
      "source": [
        "# we might need random later\n",
        "import random\n"
      ],
      "outputs": [],
      "execution_count": 1,
      "id": "qrxKqRorVx8X"
    },
    {
      "cell_type": "code",
      "metadata": {
        "id": "DmnwlmYnVx8Y"
      },
      "source": [
        "# put each new number into the right spot on the left\n",
        "def insertion(A, print_flag=False):\n",
        "    # how many things\n",
        "    n = len(A)\n",
        "    # grow a sorted prefix from left to right\n",
        "    for i in range(1, n):\n",
        "        # the value we’re inserting\n",
        "        key = A[i]\n",
        "        # look left of it\n",
        "        j = i - 1\n",
        "        # while left is bigger, move it right\n",
        "        while j >= 0 and A[j] > key:\n",
        "            # shift one step right\n",
        "            A[j + 1] = A[j]\n",
        "            # move left again\n",
        "            j -= 1\n",
        "        # put our thing in the hole\n",
        "        A[j + 1] = key\n",
        "        # print if we want to see\n",
        "        if print_flag:\n",
        "            print(A)\n"
      ],
      "outputs": [],
      "execution_count": 2,
      "id": "DmnwlmYnVx8Y"
    },
    {
      "cell_type": "code",
      "metadata": {
        "id": "y_njr34pVx8Z",
        "outputId": "6b91f472-ffb2-4de6-c0dc-e25dbc4c6c01",
        "colab": {
          "base_uri": "https://localhost:8080/"
        }
      },
      "source": [
        "# clock for timing\n",
        "import time\n",
        "# same random every time\n",
        "random.seed(42)\n",
        "\n",
        "# make random list\n",
        "def rand_list(n):\n",
        "    return random.sample(range(10_000_000), n)\n",
        "\n",
        "# make sorted list\n",
        "def sorted_list(n):\n",
        "    return list(range(n))\n",
        "\n",
        "# time one sort\n",
        "def time_once(func, arr):\n",
        "    # copy first\n",
        "    a = arr.copy()\n",
        "    # start\n",
        "    t0 = time.perf_counter()\n",
        "    # sort\n",
        "    func(a)\n",
        "    # stop\n",
        "    return time.perf_counter() - t0\n",
        "\n",
        "# test many sizes\n",
        "def bench(func, gen, Ns):\n",
        "    # return list of results\n",
        "    return [{\"N\": N, \"t\": time_once(func, gen(N))} for N in Ns]\n",
        "\n",
        "# show table + ratios\n",
        "def show(rows, title):\n",
        "    # print name\n",
        "    print(title)\n",
        "    # print rows\n",
        "    for r in rows:\n",
        "        print(f\"N={r['N']:>6}  t={r['t']:.6f}s\")\n",
        "    # print ratios\n",
        "    print(\"Ratio  T(2N)/T(N):\")\n",
        "    for i in range(1, len(rows)):\n",
        "        p, c = rows[i - 1], rows[i]\n",
        "        ratio = c[\"t\"] / p[\"t\"] if p[\"t\"] else float(\"inf\")\n",
        "        print(f\"  {p['N']:>6} → {c['N']:>6}:  {ratio:.2f}\")\n",
        "    # quick legend\n",
        "    print(\"Heuristic: ~4× → n²,  ~1× → n\\n\")\n",
        "\n",
        "# sizes for random (should look n²)\n",
        "Ns_n2 = [500, 1000, 2000, 4000]\n",
        "# sizes for sorted (should look n)\n",
        "Ns_n1 = [2000, 4000, 8000, 16000]\n",
        "\n",
        "# random test\n",
        "rows = bench(insertion, rand_list, Ns_n2)\n",
        "# show\n",
        "show(rows, \"=== Insertion — Random Data ===\")\n",
        "\n",
        "# sorted test\n",
        "rows = bench(insertion, sorted_list, Ns_n1)\n",
        "# show\n",
        "show(rows, \"=== Insertion — Sorted Data (best-case) ===\")\n"
      ],
      "outputs": [
        {
          "output_type": "stream",
          "name": "stdout",
          "text": [
            "=== Insertion — Random Data ===\n",
            "N=   500  t=0.003411s\n",
            "N=  1000  t=0.015446s\n",
            "N=  2000  t=0.064938s\n",
            "N=  4000  t=0.249214s\n",
            "Ratio  T(2N)/T(N):\n",
            "     500 →   1000:  4.53\n",
            "    1000 →   2000:  4.20\n",
            "    2000 →   4000:  3.84\n",
            "Heuristic: ~4× → n²,  ~1× → n\n",
            "\n",
            "=== Insertion — Sorted Data (best-case) ===\n",
            "N=  2000  t=0.000166s\n",
            "N=  4000  t=0.000310s\n",
            "N=  8000  t=0.000682s\n",
            "N= 16000  t=0.001311s\n",
            "Ratio  T(2N)/T(N):\n",
            "    2000 →   4000:  1.86\n",
            "    4000 →   8000:  2.20\n",
            "    8000 →  16000:  1.92\n",
            "Heuristic: ~4× → n²,  ~1× → n\n",
            "\n"
          ]
        }
      ],
      "execution_count": 3,
      "id": "y_njr34pVx8Z"
    },
    {
      "cell_type": "code",
      "source": [
        "# tiny demo\n",
        "N = 8\n",
        "A = list(range(N))\n",
        "random.shuffle(A)\n",
        "\n",
        "insertion(A, True)\n",
        "\n"
      ],
      "metadata": {
        "id": "0GRQRoSSV0eF",
        "outputId": "65c6d55d-aed3-4f31-c30e-c13c942eec6d",
        "colab": {
          "base_uri": "https://localhost:8080/"
        }
      },
      "id": "0GRQRoSSV0eF",
      "execution_count": 4,
      "outputs": [
        {
          "output_type": "stream",
          "name": "stdout",
          "text": [
            "[5, 6, 4, 0, 2, 1, 3, 7]\n",
            "[4, 5, 6, 0, 2, 1, 3, 7]\n",
            "[0, 4, 5, 6, 2, 1, 3, 7]\n",
            "[0, 2, 4, 5, 6, 1, 3, 7]\n",
            "[0, 1, 2, 4, 5, 6, 3, 7]\n",
            "[0, 1, 2, 3, 4, 5, 6, 7]\n",
            "[0, 1, 2, 3, 4, 5, 6, 7]\n"
          ]
        }
      ]
    }
  ],
  "metadata": {
    "kernelspec": {
      "display_name": "Python 3",
      "language": "python",
      "name": "python3"
    },
    "language_info": {
      "name": "python",
      "version": "3.x"
    },
    "colab": {
      "provenance": []
    }
  },
  "nbformat": 4,
  "nbformat_minor": 5
}