{
 "cells": [
  {
   "cell_type": "markdown",
   "id": "8a8909a5",
   "metadata": {},
   "source": [
    "\n",
    "# HeapHHApportionment-2020 (Huntington-Hill via Max-Heap)\n",
    "\n",
    "**Author:** Jack Henney  \n",
    "**Course:** CS315 — Algorithms and Data Structures  \n",
    "**Goal:** Use 2020 U.S. Census data to apportion 435 U.S. House seats among the 50 states using the Huntington-Hill method, implemented with a max-heap. Verify the results against the official `StatesPopulation.csv` file.\n",
    "\n",
    "**GitHub Repository Link:**  \n",
    "[Click to view my HeapHHApportionment-2020.ipynb on GitHub](https://github.com/jackhenney/CS315/blob/main/heapH5.ipynb)\n"
   ]
  },
  {
   "cell_type": "code",
   "execution_count": null,
   "id": "078af881",
   "metadata": {},
   "outputs": [],
   "source": [
    "\n",
    "import math\n",
    "import heapq\n",
    "import pandas as pd\n"
   ]
  },
  {
   "cell_type": "code",
   "execution_count": null,
   "id": "bf82f762",
   "metadata": {},
   "outputs": [],
   "source": [
    "\n",
    "# 2020 population data\n",
    "statePop = [\n",
    "    5024279,733391,7151502,3011524,39538223,5773714,3605944,989948,21538187,10711908,\n",
    "    1455271,1839106,12812508,6785528,3190369,2937880,4505836,4657757,1362359,6177224,\n",
    "    7029917,10077331,5706494,2961279,6154913,1084225,1961504,3104614,1377529,9288994,\n",
    "    2117522,20201249,10439388,779094,11799448,3959353,4237256,13002700,1097379,5118425,\n",
    "    886667,6910840,29145505,3271616,643077,8631393,7705281,1793716,5893718,576851\n",
    "]\n",
    "stateNames = [\n",
    "    \"Alabama\",\"Alaska\",\"Arizona\",\"Arkansas\",\"California\",\"Colorado\",\"Connecticut\",\"Delaware\",\"Florida\",\"Georgia\",\n",
    "    \"Hawaii\",\"Idaho\",\"Illinois\",\"Indiana\",\"Iowa\",\"Kansas\",\"Kentucky\",\"Louisiana\",\"Maine\",\"Maryland\",\"Massachusetts\",\n",
    "    \"Michigan\",\"Minnesota\",\"Mississippi\",\"Missouri\",\"Montana\",\"Nebraska\",\"Nevada\",\"NewHampshire\",\"NewJersey\",\n",
    "    \"NewMexico\",\"NewYork\",\"NorthCarolina\",\"NorthDakota\",\"Ohio\",\"Oklahoma\",\"Oregon\",\"Pennsylvania\",\"RhodeIsland\",\n",
    "    \"SouthCarolina\",\"SouthDakota\",\"Tennessee\",\"Texas\",\"Utah\",\"Vermont\",\"Virginia\",\"Washington\",\"WestVirginia\",\n",
    "    \"Wisconsin\",\"Wyoming\"\n",
    "]\n",
    "name_fix = {\n",
    "    \"NewHampshire\": \"New Hampshire\",\"NewJersey\": \"New Jersey\",\"NewMexico\": \"New Mexico\",\"NewYork\": \"New York\",\n",
    "    \"NorthCarolina\": \"North Carolina\",\"NorthDakota\": \"North Dakota\",\"RhodeIsland\": \"Rhode Island\",\n",
    "    \"SouthCarolina\": \"South Carolina\",\"SouthDakota\": \"South Dakota\",\"WestVirginia\": \"West Virginia\"\n",
    "}\n",
    "stateNamesFixed = [name_fix.get(s, s) for s in stateNames]\n"
   ]
  },
  {
   "cell_type": "code",
   "execution_count": null,
   "id": "801895b5",
   "metadata": {},
   "outputs": [],
   "source": [
    "\n",
    "def hh_priority(pop, n):\n",
    "    return pop / math.sqrt(n * (n + 1))\n",
    "\n",
    "def clean_state_name(s):\n",
    "    s = str(s)\n",
    "    return s.replace(\"\\u00a0\", \"\").replace(\"\\xa0\", \"\").strip()\n"
   ]
  },
  {
   "cell_type": "code",
   "execution_count": null,
   "id": "38cc94b6",
   "metadata": {},
   "outputs": [],
   "source": [
    "\n",
    "TARGET_SEATS = 435\n",
    "seats = [1] * 50\n",
    "total = 50\n",
    "\n",
    "heap = []\n",
    "for i in range(50):\n",
    "    p = statePop[i] / math.sqrt(2)\n",
    "    heapq.heappush(heap, (-p, i))\n",
    "\n",
    "while total < TARGET_SEATS:\n",
    "    neg_p, i = heapq.heappop(heap)\n",
    "    seats[i] += 1\n",
    "    total += 1\n",
    "    new_p = hh_priority(statePop[i], seats[i])\n",
    "    heapq.heappush(heap, (-new_p, i))\n"
   ]
  },
  {
   "cell_type": "code",
   "execution_count": null,
   "id": "79ed4d42",
   "metadata": {},
   "outputs": [],
   "source": [
    "\n",
    "apportionment = pd.DataFrame({\n",
    "    \"State\": stateNamesFixed,\n",
    "    \"Population_2020\": statePop,\n",
    "    \"Representatives_Calc\": seats\n",
    "}).sort_values(\"State\").reset_index(drop=True)\n",
    "print(\"Total:\", apportionment[\"Representatives_Calc\"].sum())\n",
    "apportionment.head()\n"
   ]
  },
  {
   "cell_type": "code",
   "execution_count": null,
   "id": "132e4d76",
   "metadata": {},
   "outputs": [],
   "source": [
    "\n",
    "actual = pd.read_csv(\"StatesPopulation.csv\")\n",
    "actual[\"State\"] = actual[\"State\"].map(clean_state_name)\n",
    "actual = actual.rename(columns={\"Number of Voting Seats in Congress\": \"Representatives_Actual\"})\n",
    "\n",
    "merged = pd.merge(\n",
    "    apportionment.rename(columns={\"State\": \"StateKey\"}),\n",
    "    actual.rename(columns={\"State\": \"StateKey\"})[[\"StateKey\",\"Representatives_Actual\"]],\n",
    "    on=\"StateKey\", how=\"left\"\n",
    ")\n",
    "merged[\"Match\"] = merged[\"Representatives_Calc\"] == merged[\"Representatives_Actual\"]\n",
    "print(\"Matches:\", merged[\"Match\"].sum(), \"/ 50\")\n",
    "merged.head(10)\n"
   ]
  },
  {
   "cell_type": "code",
   "execution_count": null,
   "id": "ada8e3b4",
   "metadata": {},
   "outputs": [],
   "source": [
    "\n",
    "assert merged[\"Representatives_Calc\"].sum() == 435\n",
    "assert merged[\"Representatives_Actual\"].sum() == 435\n",
    "assert merged[\"Match\"].all()\n",
    "print(\"✅ All checks passed. Ready to submit.\")\n"
   ]
  }
 ],
 "metadata": {},
 "nbformat": 4,
 "nbformat_minor": 5
}
