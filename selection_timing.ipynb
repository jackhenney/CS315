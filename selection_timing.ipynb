{
  "cells": [
    {
      "cell_type": "code",
      "metadata": {
        "id": "MNY2MxGJWEwK"
      },
      "source": [
        "# random if we want it\n",
        "import random\n"
      ],
      "outputs": [],
      "execution_count": 2,
      "id": "MNY2MxGJWEwK"
    },
    {
      "cell_type": "code",
      "metadata": {
        "id": "6s7kAkgTWEwK"
      },
      "source": [
        "# find the smallest and put it in front, again and again\n",
        "def selection(A, print_flag=False):\n",
        "    # how many items\n",
        "    n = len(A)\n",
        "    # choose spot i\n",
        "    for i in range(n - 1):\n",
        "        # pretend i is the smallest\n",
        "        smallest = i\n",
        "        # look through the rest\n",
        "        for j in range(i + 1, n):\n",
        "            # found a smaller one\n",
        "            if A[smallest] > A[j]:\n",
        "                # remember where it is\n",
        "                smallest = j\n",
        "        # swap smallest into spot i\n",
        "        A[i], A[smallest] = A[smallest], A[i]\n",
        "        # print if we want\n",
        "        if print_flag:\n",
        "            print(A)\n"
      ],
      "outputs": [],
      "execution_count": 3,
      "id": "6s7kAkgTWEwK"
    },
    {
      "cell_type": "code",
      "metadata": {
        "id": "MIIB65WbWEwL",
        "outputId": "3f430e89-2d53-4896-c10a-48611275b0c0",
        "colab": {
          "base_uri": "https://localhost:8080/"
        }
      },
      "source": [
        "# clock\n",
        "import time\n",
        "# same random\n",
        "random.seed(42)\n",
        "\n",
        "# random list\n",
        "def rand_list(n):\n",
        "    return random.sample(range(10_000_000), n)\n",
        "\n",
        "# sorted list\n",
        "def sorted_list(n):\n",
        "    return list(range(n))\n",
        "\n",
        "# time one run\n",
        "def time_once(func, arr):\n",
        "    # copy first\n",
        "    a = arr.copy()\n",
        "    # start\n",
        "    t0 = time.perf_counter()\n",
        "    # sort\n",
        "    func(a)\n",
        "    # stop\n",
        "    return time.perf_counter() - t0\n",
        "\n",
        "# test sizes\n",
        "def bench(func, gen, Ns):\n",
        "    # return results\n",
        "    return [{\"N\": N, \"t\": time_once(func, gen(N))} for N in Ns]\n",
        "\n",
        "# show results\n",
        "def show(rows, title):\n",
        "    # title\n",
        "    print(title)\n",
        "    # lines\n",
        "    for r in rows:\n",
        "        print(f\"N={r['N']:>6}  t={r['t']:.6f}s\")\n",
        "    # ratios\n",
        "    print(\"Ratio  T(2N)/T(N):\")\n",
        "    for i in range(1, len(rows)):\n",
        "        p, c = rows[i - 1], rows[i]\n",
        "        ratio = c[\"t\"] / p[\"t\"] if p[\"t\"] else float(\"inf\")\n",
        "        print(f\"  {p['N']:>6} → {c['N']:>6}:  {ratio:.2f}\")\n",
        "    # legend\n",
        "    print(\"Heuristic: ~4× → n²\\n\")\n",
        "\n",
        "# sizes to show n²\n",
        "Ns_n2 = [500, 1000, 2000, 4000]\n",
        "\n",
        "# random input\n",
        "rows = bench(selection, rand_list, Ns_n2)\n",
        "# show\n",
        "show(rows, \"=== Selection — Random Data ===\")\n",
        "\n",
        "# sorted input (still n²)\n",
        "rows = bench(selection, sorted_list, Ns_n2)\n",
        "# show\n",
        "show(rows, \"=== Selection — Sorted Data (order-insensitive) ===\")\n"
      ],
      "outputs": [
        {
          "output_type": "stream",
          "name": "stdout",
          "text": [
            "=== Selection — Random Data ===\n",
            "N=   500  t=0.006488s\n",
            "N=  1000  t=0.029518s\n",
            "N=  2000  t=0.106631s\n",
            "N=  4000  t=0.794868s\n",
            "Ratio  T(2N)/T(N):\n",
            "     500 →   1000:  4.55\n",
            "    1000 →   2000:  3.61\n",
            "    2000 →   4000:  7.45\n",
            "Heuristic: ~4× → n²\n",
            "\n",
            "=== Selection — Sorted Data (order-insensitive) ===\n",
            "N=   500  t=0.014651s\n",
            "N=  1000  t=0.060614s\n",
            "N=  2000  t=0.266221s\n",
            "N=  4000  t=0.953469s\n",
            "Ratio  T(2N)/T(N):\n",
            "     500 →   1000:  4.14\n",
            "    1000 →   2000:  4.39\n",
            "    2000 →   4000:  3.58\n",
            "Heuristic: ~4× → n²\n",
            "\n"
          ]
        }
      ],
      "execution_count": 4,
      "id": "MIIB65WbWEwL"
    },
    {
      "cell_type": "code",
      "source": [
        "# tiny demo\n",
        "N = 8\n",
        "A = list(range(N))\n",
        "random.shuffle(A)\n",
        "\n",
        "selection(A, True)\n",
        "\n"
      ],
      "metadata": {
        "id": "YdJo0SeGWFit",
        "outputId": "e4c797fc-b642-408d-974b-b526434ac1a4",
        "colab": {
          "base_uri": "https://localhost:8080/"
        }
      },
      "id": "YdJo0SeGWFit",
      "execution_count": 5,
      "outputs": [
        {
          "output_type": "stream",
          "name": "stdout",
          "text": [
            "[0, 5, 4, 6, 2, 1, 3, 7]\n",
            "[0, 1, 4, 6, 2, 5, 3, 7]\n",
            "[0, 1, 2, 6, 4, 5, 3, 7]\n",
            "[0, 1, 2, 3, 4, 5, 6, 7]\n",
            "[0, 1, 2, 3, 4, 5, 6, 7]\n",
            "[0, 1, 2, 3, 4, 5, 6, 7]\n",
            "[0, 1, 2, 3, 4, 5, 6, 7]\n"
          ]
        }
      ]
    }
  ],
  "metadata": {
    "kernelspec": {
      "display_name": "Python 3",
      "language": "python",
      "name": "python3"
    },
    "language_info": {
      "name": "python",
      "version": "3.x"
    },
    "colab": {
      "provenance": []
    }
  },
  "nbformat": 4,
  "nbformat_minor": 5
}