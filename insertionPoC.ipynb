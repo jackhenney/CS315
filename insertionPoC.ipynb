{
  "nbformat": 4,
  "nbformat_minor": 0,
  "metadata": {
    "colab": {
      "provenance": [],
      "include_colab_link": true
    },
    "kernelspec": {
      "name": "python3",
      "display_name": "Python 3"
    },
    "language_info": {
      "name": "python"
    }
  },
  "cells": [
    {
      "cell_type": "markdown",
      "metadata": {
        "id": "view-in-github",
        "colab_type": "text"
      },
      "source": [
        "<a href=\"https://colab.research.google.com/github/jackhenney/CS315/blob/main/insertionPoC.ipynb\" target=\"_parent\"><img src=\"https://colab.research.google.com/assets/colab-badge.svg\" alt=\"Open In Colab\"/></a>"
      ]
    },
    {
      "cell_type": "code",
      "execution_count": null,
      "metadata": {
        "id": "tZGwopH4Y7oL"
      },
      "outputs": [],
      "source": [
        "# Template for testing Insertion-Sort on small lists, outputing each intermediate step"
      ]
    },
    {
      "cell_type": "code",
      "source": [
        "import random"
      ],
      "metadata": {
        "id": "fSME9MywceAq"
      },
      "execution_count": 5,
      "outputs": []
    },
    {
      "cell_type": "code",
      "source": [
        "def insertion(A, print_flag=False):\n",
        "    n=len(A)\n",
        "    for i in range(1,n):\n",
        "        key=A[i]\n",
        "        j=i-1\n",
        "        while j>=0 and A[j]>key:\n",
        "            A[j+1]=A[j]\n",
        "            j-=1\n",
        "        A[j+1]=key\n",
        "        if print_flag:\n",
        "            print(A)\n"
      ],
      "metadata": {
        "id": "TJZL4jFQZhAp"
      },
      "execution_count": 6,
      "outputs": []
    },
    {
      "cell_type": "code",
      "source": [
        "import time\n",
        "random.seed(42)\n",
        "\n",
        "def rand_list(n): return random.sample(range(10_000_000), n)\n",
        "def sorted_list(n): return list(range(n))\n",
        "\n",
        "def time_once(func, arr):\n",
        "    a = arr.copy()\n",
        "    t0 = time.perf_counter()\n",
        "    func(a)\n",
        "    return time.perf_counter() - t0\n",
        "\n",
        "def bench(func, gen, Ns):\n",
        "    return [{\"N\": N, \"t\": time_once(func, gen(N))} for N in Ns]\n",
        "\n",
        "def show(rows, title):\n",
        "    print(title)\n",
        "    for r in rows:\n",
        "        print(f\"N={r['N']:>6}  t={r['t']:.6f}s\")\n",
        "    print(\"Ratio  T(2N)/T(N):\")\n",
        "    for i in range(1, len(rows)):\n",
        "        p, c = rows[i-1], rows[i]\n",
        "        ratio = c[\"t\"]/p[\"t\"] if p[\"t\"] else float(\"inf\")\n",
        "        print(f\"  {p['N']:>6} → {c['N']:>6}:  {ratio:.2f}\")\n",
        "    print(\"Heuristic: ~4× → n²,  ~1× → n\\n\")"
      ],
      "metadata": {
        "id": "CtsrftZ3vWcZ"
      },
      "execution_count": 7,
      "outputs": []
    },
    {
      "cell_type": "code",
      "source": [
        "Ns_n2 = [500, 1000, 2000, 4000]      # large enough for n² growth\n",
        "Ns_n1 = [2000, 4000, 8000, 16000]    # for near-linear on sorted input\n",
        "\n",
        "# 5(a) random input — expect ~n²\n",
        "rows = bench(insertion, rand_list, Ns_n2)\n",
        "show(rows, \"=== Insertion — Random Data ===\")\n",
        "\n",
        "# 5(b) already-sorted input — best-case ~n\n",
        "rows = bench(insertion, sorted_list, Ns_n1)\n",
        "show(rows, \"=== Insertion — Sorted Data (best-case) ===\")"
      ],
      "metadata": {
        "id": "ElhG1xwhvXw_",
        "outputId": "f01ae1ae-8923-40ed-d348-983ac404cd44",
        "colab": {
          "base_uri": "https://localhost:8080/"
        }
      },
      "execution_count": 8,
      "outputs": [
        {
          "output_type": "stream",
          "name": "stdout",
          "text": [
            "=== Insertion — Random Data ===\n",
            "N=   500  t=0.006739s\n",
            "N=  1000  t=0.026841s\n",
            "N=  2000  t=0.097779s\n",
            "N=  4000  t=0.387364s\n",
            "Ratio  T(2N)/T(N):\n",
            "     500 →   1000:  3.98\n",
            "    1000 →   2000:  3.64\n",
            "    2000 →   4000:  3.96\n",
            "Heuristic: ~4× → n²,  ~1× → n\n",
            "\n",
            "=== Insertion — Sorted Data (best-case) ===\n",
            "N=  2000  t=0.000234s\n",
            "N=  4000  t=0.000493s\n",
            "N=  8000  t=0.001000s\n",
            "N= 16000  t=0.001967s\n",
            "Ratio  T(2N)/T(N):\n",
            "    2000 →   4000:  2.11\n",
            "    4000 →   8000:  2.03\n",
            "    8000 →  16000:  1.97\n",
            "Heuristic: ~4× → n²,  ~1× → n\n",
            "\n"
          ]
        }
      ]
    },
    {
      "cell_type": "code",
      "source": [
        "N=8\n",
        "A = list(range(N))\n",
        "\n",
        "random.shuffle(A)\n",
        "\n",
        "print(A)\n",
        "insertion(A,True)\n",
        "print(A)"
      ],
      "metadata": {
        "colab": {
          "base_uri": "https://localhost:8080/"
        },
        "id": "f1GS3NjwZqmS",
        "outputId": "f2d3fa6d-6be9-4ac9-cb1e-c5933cb53557"
      },
      "execution_count": 9,
      "outputs": [
        {
          "output_type": "stream",
          "name": "stdout",
          "text": [
            "[6, 5, 4, 0, 2, 1, 3, 7]\n",
            "[5, 6, 4, 0, 2, 1, 3, 7]\n",
            "[4, 5, 6, 0, 2, 1, 3, 7]\n",
            "[0, 4, 5, 6, 2, 1, 3, 7]\n",
            "[0, 2, 4, 5, 6, 1, 3, 7]\n",
            "[0, 1, 2, 4, 5, 6, 3, 7]\n",
            "[0, 1, 2, 3, 4, 5, 6, 7]\n",
            "[0, 1, 2, 3, 4, 5, 6, 7]\n",
            "[0, 1, 2, 3, 4, 5, 6, 7]\n"
          ]
        }
      ]
    }
  ]
}