{
  "cells": [
    {
      "cell_type": "code",
      "metadata": {
        "id": "pAvRS4eCVpM-"
      },
      "source": [
        "# random just for demos\n",
        "import random\n"
      ],
      "outputs": [],
      "execution_count": null,
      "id": "pAvRS4eCVpM-"
    },
    {
      "cell_type": "code",
      "metadata": {
        "id": "Mflm7nJYVpM_"
      },
      "source": [
        "# glue two sorted halves back together\n",
        "def Merge(A, p, q, r):\n",
        "    # sizes of left and right\n",
        "    nL = q - p + 1\n",
        "    nR = r - q\n",
        "    # make temp lists\n",
        "    Left, Right = [], []\n",
        "    # copy left half\n",
        "    for i in range(nL):\n",
        "        Left.append(A[p + i])\n",
        "    # copy right half\n",
        "    for j in range(nR):\n",
        "        Right.append(A[q + j + 1])\n",
        "    # start at the front of each\n",
        "    i = j = 0\n",
        "    # write here\n",
        "    k = p\n",
        "    # pick the smaller head each time\n",
        "    while i < nL and j < nR:\n",
        "        if Left[i] <= Right[j]:\n",
        "            A[k] = Left[i]; i += 1\n",
        "        else:\n",
        "            A[k] = Right[j]; j += 1\n",
        "        k += 1\n",
        "    # dump leftovers from Left\n",
        "    while i < nL:\n",
        "        A[k] = Left[i]; i += 1; k += 1\n",
        "    # dump leftovers from Right\n",
        "    while j < nR:\n",
        "        A[k] = Right[j]; j += 1; k += 1\n",
        "\n",
        "# split, sort both sides, then merge\n",
        "def Mergesort(A, p, r, print_flag):\n",
        "    # stop when 0 or 1\n",
        "    if p >= r:\n",
        "        return\n",
        "    # find middle\n",
        "    q = (p + r) // 2\n",
        "    # sort left\n",
        "    Mergesort(A, p, q, print_flag)\n",
        "    # sort right\n",
        "    Mergesort(A, q + 1, r, print_flag)\n",
        "    # glue them\n",
        "    Merge(A, p, q, r)\n",
        "    # show if asked\n",
        "    if print_flag:\n",
        "        print(A)\n",
        "\n",
        "# tiny helper so timer can call with one thing\n",
        "def mergesort(a):\n",
        "    # sort everything without prints\n",
        "    Mergesort(a, 0, len(a) - 1, False)\n",
        "    # give back the list\n",
        "    return a\n"
      ],
      "outputs": [],
      "execution_count": null,
      "id": "Mflm7nJYVpM_"
    },
    {
      "cell_type": "code",
      "metadata": {
        "id": "MVWwhZXdVpM_"
      },
      "source": [
        "# timing\n",
        "import time\n",
        "# same randomness\n",
        "random.seed(42)\n",
        "\n",
        "# random list\n",
        "def rand_list(n):\n",
        "    return random.sample(range(10_000_000), n)\n",
        "\n",
        "# sorted list\n",
        "def sorted_list(n):\n",
        "    return list(range(n))\n",
        "\n",
        "# time once\n",
        "def time_once(func, arr):\n",
        "    # copy\n",
        "    a = arr.copy()\n",
        "    # start\n",
        "    t0 = time.perf_counter()\n",
        "    # run\n",
        "    func(a)\n",
        "    # end\n",
        "    return time.perf_counter() - t0\n",
        "\n",
        "# bench sizes\n",
        "def bench(func, gen, Ns):\n",
        "    # results\n",
        "    return [{\"N\": N, \"t\": time_once(func, gen(N))} for N in Ns]\n",
        "\n",
        "# print results\n",
        "def show(rows, title):\n",
        "    # title\n",
        "    print(title)\n",
        "    # lines\n",
        "    for r in rows:\n",
        "        print(f\"N={r['N']:>6}  t={r['t']:.6f}s\")\n",
        "    # ratios\n",
        "    print(\"Ratio  T(2N)/T(N):\")\n",
        "    for i in range(1, len(rows)):\n",
        "        p, c = rows[i - 1], rows[i]\n",
        "        ratio = c[\"t\"] / p[\"t\"] if p[\"t\"] else float(\"inf\")\n",
        "        print(f\"  {p['N']:>6} → {c['N']:>6}:  {ratio:.2f}\")\n",
        "    # legend\n",
        "    print(\"Heuristic: ~2× → n log n\\n\")\n",
        "\n",
        "# sizes that double nicely\n",
        "Ns_nlg = [2000, 4000, 8000, 16000]\n",
        "\n",
        "# random test\n",
        "rows = bench(mergesort, rand_list, Ns_nlg)\n",
        "# show\n",
        "show(rows, \"=== Merge — Random Data ===\")\n",
        "\n",
        "# sorted test\n",
        "rows = bench(mergesort, sorted_list, Ns_nlg)\n",
        "# show\n",
        "show(rows, \"=== Merge — Sorted Data ===\")\n"
      ],
      "outputs": [],
      "execution_count": null,
      "id": "MVWwhZXdVpM_"
    },
    {
      "cell_type": "code",
      "source": [
        "# Original demo\n",
        "N = 8\n",
        "A = list(range(N))\n",
        "random.shuffle(A)\n",
        "\n",
        "Mergesort(A, 0, N-1, True)\n",
        "\n"
      ],
      "metadata": {
        "id": "fNvFG686Vp75"
      },
      "id": "fNvFG686Vp75",
      "execution_count": null,
      "outputs": []
    }
  ],
  "metadata": {
    "kernelspec": {
      "display_name": "Python 3",
      "language": "python",
      "name": "python3"
    },
    "language_info": {
      "name": "python",
      "version": "3.x"
    },
    "colab": {
      "provenance": []
    }
  },
  "nbformat": 4,
  "nbformat_minor": 5
}