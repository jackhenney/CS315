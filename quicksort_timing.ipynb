{
  "cells": [
    {
      "cell_type": "code",
      "metadata": {
        "id": "ysNcwl5YUiA2"
      },
      "source": [
        "# we need random numbers\n",
        "import random\n"
      ],
      "outputs": [],
      "execution_count": 1,
      "id": "ysNcwl5YUiA2"
    },
    {
      "cell_type": "code",
      "metadata": {
        "id": "zo4yE4eQUiA2"
      },
      "source": [
        "# split the array around a helper number (pivot)\n",
        "def Partition(A, p, r):\n",
        "    # pick the last number as the pivot\n",
        "    x = A[r]\n",
        "    # i points to the end of the small side\n",
        "    i = p - 1\n",
        "    # j walks through the numbers\n",
        "    for j in range(p, r):\n",
        "        # if this number is small enough\n",
        "        if A[j] <= x:\n",
        "            # grow the small side\n",
        "            i = i + 1\n",
        "            # swap to put the small number on the small side\n",
        "            temp = A[i]\n",
        "            A[i] = A[j]\n",
        "            A[j] = temp\n",
        "    # put the pivot right after the small side\n",
        "    temp = A[i + 1]\n",
        "    A[i + 1] = A[r]\n",
        "    A[r] = temp\n",
        "    # tell where the pivot ended up\n",
        "    return i + 1\n"
      ],
      "outputs": [],
      "execution_count": 2,
      "id": "zo4yE4eQUiA2"
    },
    {
      "cell_type": "code",
      "metadata": {
        "id": "O1B63mFHUiA3"
      },
      "source": [
        "# sort by splitting, then sorting the two sides\n",
        "def Quicksort(A, p, r, print_flag):\n",
        "    # stop when there is 0 or 1 item\n",
        "    if p < r:\n",
        "        # split the array\n",
        "        q = Partition(A, p, r)\n",
        "        # show the array if we asked to\n",
        "        if print_flag:\n",
        "            print(A)\n",
        "        # sort the left side\n",
        "        Quicksort(A, p, q - 1, print_flag)\n",
        "        # sort the right side\n",
        "        Quicksort(A, q + 1, r, print_flag)\n"
      ],
      "outputs": [],
      "execution_count": 3,
      "id": "O1B63mFHUiA3"
    },
    {
      "cell_type": "code",
      "metadata": {
        "id": "0oLOSaGEUiA3"
      },
      "source": [
        "# we need a clock\n",
        "import time\n",
        "# make random the same every time\n",
        "random.seed(42)\n",
        "\n",
        "# make a list with different random numbers\n",
        "def rand_list(n):\n",
        "    return random.sample(range(10_000_000), n)\n",
        "\n",
        "# make a list that is already sorted up\n",
        "def sorted_list(n):\n",
        "    return list(range(n))\n",
        "\n",
        "# make a list sorted down (bad for our pivot)\n",
        "def decreasing_list(n):\n",
        "    return list(range(n, 0, -1))\n",
        "\n",
        "# time how long one sort takes\n",
        "def time_once(func, arr):\n",
        "    # copy so we don’t mess up the original\n",
        "    a = arr.copy()\n",
        "    # start the clock\n",
        "    t0 = time.perf_counter()\n",
        "    # do the sort\n",
        "    func(a)\n",
        "    # stop the clock and return how long\n",
        "    return time.perf_counter() - t0\n",
        "\n",
        "# test many sizes\n",
        "def bench(func, gen, Ns):\n",
        "    # build a list of {size, time}\n",
        "    return [{\"N\": N, \"t\": time_once(func, gen(N))} for N in Ns]\n",
        "\n",
        "# show the times and the “double size” ratio\n",
        "def show(rows, title):\n",
        "    # print a title\n",
        "    print(title)\n",
        "    # print each size and time\n",
        "    for r in rows:\n",
        "        print(f\"N={r['N']:>6}  t={r['t']:.6f}s\")\n",
        "    # say we’re doing ratios\n",
        "    print(\"Ratio  T(2N)/T(N):\")\n",
        "    # compare neighbors\n",
        "    for i in range(1, len(rows)):\n",
        "        # get the two rows\n",
        "        prev, cur = rows[i - 1], rows[i]\n",
        "        # divide times (careful if 0)\n",
        "        ratio = cur[\"t\"] / prev[\"t\"] if prev[\"t\"] else float(\"inf\")\n",
        "        # print the ratio\n",
        "        print(f\"  {prev['N']:>6} → {cur['N']:>6}:  {ratio:.2f}\")\n",
        "    # tiny cheat sheet\n",
        "    print(\"Heuristic: ~2× → n log n,  ~4× → n²,  ~1× → n\\n\")\n"
      ],
      "outputs": [],
      "execution_count": 4,
      "id": "0oLOSaGEUiA3"
    },
    {
      "cell_type": "code",
      "metadata": {
        "id": "BCyTRAFIUiA4",
        "outputId": "557c9837-0f9d-4f6e-f5c2-1b9d822aad35",
        "colab": {
          "base_uri": "https://localhost:8080/"
        }
      },
      "source": [
        "#Set a recursion limit\n",
        "import sys\n",
        "sys.setrecursionlimit(200000)\n",
        "\n",
        "# sizes for normal random case (should look n log n)\n",
        "Ns_nlg = [2000, 4000, 8000, 16000]\n",
        "# sizes for the worst case (should look n²)\n",
        "Ns_n2  = [500, 1000, 2000, 4000]\n",
        "\n",
        "# wrap Quicksort so it takes only one thing (the list)\n",
        "rows = bench(lambda arr: Quicksort(arr, 0, len(arr) - 1, False), rand_list, Ns_nlg)\n",
        "# show how long and ratios\n",
        "show(rows, \"=== Quicksort — Random Data ===\")\n",
        "\n",
        "# test already-sorted (this is bad for our pivot)\n",
        "rows = bench(lambda arr: Quicksort(arr, 0, len(arr) - 1, False), sorted_list, Ns_n2)\n",
        "# show times\n",
        "show(rows, \"=== Quicksort — Sorted Ascending (worst-case) ===\")\n",
        "\n",
        "# test decreasing (also bad)\n",
        "rows = bench(lambda arr: Quicksort(arr, 0, len(arr) - 1, False), decreasing_list, Ns_n2)\n",
        "# show times\n",
        "show(rows, \"=== Quicksort — Decreasing (worst-case) ===\")\n"
      ],
      "outputs": [
        {
          "output_type": "stream",
          "name": "stdout",
          "text": [
            "=== Quicksort — Random Data ===\n",
            "N=  2000  t=0.007510s\n",
            "N=  4000  t=0.009768s\n",
            "N=  8000  t=0.012338s\n",
            "N= 16000  t=0.026399s\n",
            "Ratio  T(2N)/T(N):\n",
            "    2000 →   4000:  1.30\n",
            "    4000 →   8000:  1.26\n",
            "    8000 →  16000:  2.14\n",
            "Heuristic: ~2× → n log n,  ~4× → n²,  ~1× → n\n",
            "\n",
            "=== Quicksort — Sorted Ascending (worst-case) ===\n",
            "N=   500  t=0.010399s\n",
            "N=  1000  t=0.046492s\n",
            "N=  2000  t=0.199948s\n",
            "N=  4000  t=1.687446s\n",
            "Ratio  T(2N)/T(N):\n",
            "     500 →   1000:  4.47\n",
            "    1000 →   2000:  4.30\n",
            "    2000 →   4000:  8.44\n",
            "Heuristic: ~2× → n log n,  ~4× → n²,  ~1× → n\n",
            "\n",
            "=== Quicksort — Decreasing (worst-case) ===\n",
            "N=   500  t=0.014266s\n",
            "N=  1000  t=0.067464s\n",
            "N=  2000  t=0.298084s\n",
            "N=  4000  t=0.863922s\n",
            "Ratio  T(2N)/T(N):\n",
            "     500 →   1000:  4.73\n",
            "    1000 →   2000:  4.42\n",
            "    2000 →   4000:  2.90\n",
            "Heuristic: ~2× → n log n,  ~4× → n²,  ~1× → n\n",
            "\n"
          ]
        }
      ],
      "execution_count": 6,
      "id": "BCyTRAFIUiA4"
    },
    {
      "cell_type": "code",
      "metadata": {
        "id": "LNU7HesVUiA4",
        "outputId": "86e1c303-8a63-4d48-c952-c30bbc6957da",
        "colab": {
          "base_uri": "https://localhost:8080/"
        }
      },
      "source": [
        "# Original demo\n",
        "N = 8\n",
        "A = list(range(N))\n",
        "random.shuffle(A)\n",
        "print(A)\n",
        "\n",
        "Quicksort(A, 0, N - 1, True)\n",
        "\n",
        "print(A)\n"
      ],
      "outputs": [
        {
          "output_type": "stream",
          "name": "stdout",
          "text": [
            "[1, 3, 2, 0, 6, 7, 4, 5]\n",
            "[1, 3, 2, 0, 4, 5, 6, 7]\n",
            "[1, 3, 2, 0, 4, 5, 6, 7]\n",
            "[0, 3, 2, 1, 4, 5, 6, 7]\n",
            "[0, 1, 2, 3, 4, 5, 6, 7]\n",
            "[0, 1, 2, 3, 4, 5, 6, 7]\n",
            "[0, 1, 2, 3, 4, 5, 6, 7]\n",
            "[0, 1, 2, 3, 4, 5, 6, 7]\n"
          ]
        }
      ],
      "execution_count": 7,
      "id": "LNU7HesVUiA4"
    }
  ],
  "metadata": {
    "kernelspec": {
      "display_name": "Python 3",
      "language": "python",
      "name": "python3"
    },
    "language_info": {
      "name": "python",
      "version": "3.x"
    },
    "colab": {
      "provenance": []
    }
  },
  "nbformat": 4,
  "nbformat_minor": 5
}