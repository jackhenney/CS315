{
  "nbformat": 4,
  "nbformat_minor": 0,
  "metadata": {
    "colab": {
      "provenance": [],
      "include_colab_link": true
    },
    "kernelspec": {
      "name": "python3",
      "display_name": "Python 3"
    },
    "language_info": {
      "name": "python"
    }
  },
  "cells": [
    {
      "cell_type": "markdown",
      "metadata": {
        "id": "view-in-github",
        "colab_type": "text"
      },
      "source": [
        "<a href=\"https://colab.research.google.com/github/jackhenney/CS315/blob/main/selectionPoC.ipynb\" target=\"_parent\"><img src=\"https://colab.research.google.com/assets/colab-badge.svg\" alt=\"Open In Colab\"/></a>"
      ]
    },
    {
      "cell_type": "code",
      "execution_count": null,
      "metadata": {
        "id": "tZGwopH4Y7oL"
      },
      "outputs": [],
      "source": [
        "# Template for testing Selection Sort on small lists, outputing each intermediate step"
      ]
    },
    {
      "cell_type": "code",
      "source": [
        "import random"
      ],
      "metadata": {
        "id": "fSME9MywceAq"
      },
      "execution_count": 1,
      "outputs": []
    },
    {
      "cell_type": "code",
      "source": [
        "def selection(A, print_flag=False):\n",
        "    n=len(A)\n",
        "    for i in range(n-1):\n",
        "        smallest=i\n",
        "        for j in range(i+1,n):\n",
        "            if A[smallest]>A[j]:\n",
        "                smallest=j\n",
        "        A[i],A[smallest]=A[smallest],A[i]\n",
        "        if print_flag:\n",
        "            print(A)\n"
      ],
      "metadata": {
        "id": "TJZL4jFQZhAp"
      },
      "execution_count": 2,
      "outputs": []
    },
    {
      "cell_type": "code",
      "source": [
        "import time\n",
        "random.seed(42)\n",
        "\n",
        "def rand_list(n): return random.sample(range(10_000_000), n)\n",
        "def sorted_list(n): return list(range(n))\n",
        "\n",
        "def time_once(func, arr):\n",
        "    a = arr.copy()\n",
        "    t0 = time.perf_counter()\n",
        "    func(a)\n",
        "    return time.perf_counter() - t0\n",
        "\n",
        "def bench(func, gen, Ns):\n",
        "    return [{\"N\": N, \"t\": time_once(func, gen(N))} for N in Ns]\n",
        "\n",
        "def show(rows, title):\n",
        "    print(title)\n",
        "    for r in rows:\n",
        "        print(f\"N={r['N']:>6}  t={r['t']:.6f}s\")\n",
        "    print(\"Ratio  T(2N)/T(N):\")\n",
        "    for i in range(1, len(rows)):\n",
        "        p, c = rows[i-1], rows[i]\n",
        "        ratio = c[\"t\"]/p[\"t\"] if p[\"t\"] else float(\"inf\")\n",
        "        print(f\"  {p['N']:>6} → {c['N']:>6}:  {ratio:.2f}\")\n",
        "    print(\"Heuristic: ~4× → n²\\n\")\n"
      ],
      "metadata": {
        "id": "0tQEbay-xV0Z"
      },
      "execution_count": 3,
      "outputs": []
    },
    {
      "cell_type": "code",
      "source": [
        "Ns_n2 = [500, 1000, 2000, 4000]     # big enough to reveal n² growth\n",
        "\n",
        "# 5(a) random input — expect ~n²\n",
        "rows = bench(selection, rand_list, Ns_n2)\n",
        "show(rows, \"=== Selection — Random Data ===\")\n",
        "\n",
        "# 5(b) already-sorted input — still ~n² (no best-case improvement)\n",
        "rows = bench(selection, sorted_list, Ns_n2)\n",
        "show(rows, \"=== Selection — Sorted Data (order-insensitive) ===\")"
      ],
      "metadata": {
        "id": "XvJ-JvAjxY5u",
        "outputId": "d0f45391-23ca-42e4-831a-4b5bd6afc47c",
        "colab": {
          "base_uri": "https://localhost:8080/"
        }
      },
      "execution_count": 4,
      "outputs": [
        {
          "output_type": "stream",
          "name": "stdout",
          "text": [
            "=== Selection — Random Data ===\n",
            "N=   500  t=0.010473s\n",
            "N=  1000  t=0.032622s\n",
            "N=  2000  t=0.107834s\n",
            "N=  4000  t=0.396970s\n",
            "Ratio  T(2N)/T(N):\n",
            "     500 →   1000:  3.11\n",
            "    1000 →   2000:  3.31\n",
            "    2000 →   4000:  3.68\n",
            "Heuristic: ~4× → n²\n",
            "\n",
            "=== Selection — Sorted Data (order-insensitive) ===\n",
            "N=   500  t=0.004537s\n",
            "N=  1000  t=0.024393s\n",
            "N=  2000  t=0.102172s\n",
            "N=  4000  t=0.419718s\n",
            "Ratio  T(2N)/T(N):\n",
            "     500 →   1000:  5.38\n",
            "    1000 →   2000:  4.19\n",
            "    2000 →   4000:  4.11\n",
            "Heuristic: ~4× → n²\n",
            "\n"
          ]
        }
      ]
    },
    {
      "cell_type": "code",
      "source": [
        "N=8\n",
        "A = list(range(N))\n",
        "\n",
        "random.shuffle(A)\n",
        "\n",
        "print(A)\n",
        "selection(A,True)\n",
        "print(A)"
      ],
      "metadata": {
        "id": "f1GS3NjwZqmS",
        "outputId": "cfe208ef-9eb9-4b57-9300-e024c05aebb9",
        "colab": {
          "base_uri": "https://localhost:8080/"
        }
      },
      "execution_count": 5,
      "outputs": [
        {
          "output_type": "stream",
          "name": "stdout",
          "text": [
            "[6, 5, 4, 0, 2, 1, 3, 7]\n",
            "[0, 5, 4, 6, 2, 1, 3, 7]\n",
            "[0, 1, 4, 6, 2, 5, 3, 7]\n",
            "[0, 1, 2, 6, 4, 5, 3, 7]\n",
            "[0, 1, 2, 3, 4, 5, 6, 7]\n",
            "[0, 1, 2, 3, 4, 5, 6, 7]\n",
            "[0, 1, 2, 3, 4, 5, 6, 7]\n",
            "[0, 1, 2, 3, 4, 5, 6, 7]\n",
            "[0, 1, 2, 3, 4, 5, 6, 7]\n"
          ]
        }
      ]
    }
  ]
}