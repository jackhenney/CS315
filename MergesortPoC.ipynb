{
  "nbformat": 4,
  "nbformat_minor": 0,
  "metadata": {
    "colab": {
      "provenance": [],
      "include_colab_link": true
    },
    "kernelspec": {
      "name": "python3",
      "display_name": "Python 3"
    },
    "language_info": {
      "name": "python"
    }
  },
  "cells": [
    {
      "cell_type": "markdown",
      "metadata": {
        "id": "view-in-github",
        "colab_type": "text"
      },
      "source": [
        "<a href=\"https://colab.research.google.com/github/jackhenney/CS315/blob/main/MergesortPoC.ipynb\" target=\"_parent\"><img src=\"https://colab.research.google.com/assets/colab-badge.svg\" alt=\"Open In Colab\"/></a>"
      ]
    },
    {
      "cell_type": "code",
      "execution_count": null,
      "metadata": {
        "id": "t_LwP80OmwFK"
      },
      "outputs": [],
      "source": [
        "# Template for testing Insertion-Sort on small lists, outputing each intermediate step"
      ]
    },
    {
      "cell_type": "code",
      "source": [
        "import random"
      ],
      "metadata": {
        "id": "LMcLd_etm-0Y"
      },
      "execution_count": 1,
      "outputs": []
    },
    {
      "cell_type": "code",
      "source": [
        "def Merge(A, p, q, r):\n",
        "    nL = q - p + 1\n",
        "    nR = r - q\n",
        "    Left, Right = [], []\n",
        "\n",
        "    for i in range(nL):\n",
        "        Left.append(A[p + i])\n",
        "    for j in range(nR):\n",
        "        Right.append(A[q + j + 1])\n",
        "\n",
        "    i = j = 0\n",
        "    k = p\n",
        "    while i < nL and j < nR:\n",
        "        if Left[i] <= Right[j]:\n",
        "            A[k] = Left[i]; i += 1\n",
        "        else:\n",
        "            A[k] = Right[j]; j += 1\n",
        "        k += 1\n",
        "\n",
        "    while i < nL:\n",
        "        A[k] = Left[i]; i += 1; k += 1\n",
        "    while j < nR:\n",
        "        A[k] = Right[j]; j += 1; k += 1"
      ],
      "metadata": {
        "id": "TyWIYm1_nIYR"
      },
      "execution_count": 2,
      "outputs": []
    },
    {
      "cell_type": "code",
      "source": [
        "def Mergesort(A, p, r, print_flag):\n",
        "    if p >= r:\n",
        "        return\n",
        "    q = (p + r) // 2\n",
        "\n",
        "    # ✅ just fill these three lines:\n",
        "    Mergesort(A, p, q, print_flag)\n",
        "    Mergesort(A, q + 1, r, print_flag)\n",
        "    Merge(A, p, q, r)\n",
        "\n",
        "    if print_flag:\n",
        "        print(A)\n"
      ],
      "metadata": {
        "id": "neX-YNcPnLpk"
      },
      "execution_count": 3,
      "outputs": []
    },
    {
      "cell_type": "code",
      "source": [
        "def mergesort(a):\n",
        "    Mergesort(a, 0, len(a) - 1, False)\n",
        "    return a"
      ],
      "metadata": {
        "id": "AuYcNs0Kzjfd"
      },
      "execution_count": 4,
      "outputs": []
    },
    {
      "cell_type": "code",
      "source": [
        "import time\n",
        "random.seed(42)\n",
        "\n",
        "def rand_list(n): return random.sample(range(10_000_000), n)\n",
        "def sorted_list(n): return list(range(n))\n",
        "\n",
        "def time_once(func, arr):\n",
        "    a = arr.copy()\n",
        "    t0 = time.perf_counter()\n",
        "    func(a)\n",
        "    return time.perf_counter() - t0\n",
        "\n",
        "def bench(func, gen, Ns):\n",
        "    return [{\"N\": N, \"t\": time_once(func, gen(N))} for N in Ns]\n",
        "\n",
        "def show(rows, title):\n",
        "    print(title)\n",
        "    for r in rows:\n",
        "        print(f\"N={r['N']:>6}  t={r['t']:.6f}s\")\n",
        "    print(\"Ratio  T(2N)/T(N):\")\n",
        "    for i in range(1, len(rows)):\n",
        "        p, c = rows[i-1], rows[i]\n",
        "        ratio = c[\"t\"]/p[\"t\"] if p[\"t\"] else float(\"inf\")\n",
        "        print(f\"  {p['N']:>6} → {c['N']:>6}:  {ratio:.2f}\")\n",
        "    print(\"Heuristic: ~2× → n log n\\n\")\n"
      ],
      "metadata": {
        "id": "GjRiWqlpzpHj"
      },
      "execution_count": 5,
      "outputs": []
    },
    {
      "cell_type": "code",
      "source": [
        "# Sizes: n log n grows ~2× when doubling N\n",
        "Ns_nlg = [2000, 4000, 8000, 16000]\n",
        "\n",
        "# 5(a) random → expect ~n log n\n",
        "rows = bench(mergesort, rand_list, Ns_nlg)\n",
        "show(rows, \"=== Merge — Random Data ===\")\n",
        "\n",
        "# 5(b) sorted → still ~n log n (order-insensitive)\n",
        "rows = bench(mergesort, sorted_list, Ns_nlg)\n",
        "show(rows, \"=== Merge — Sorted Data ===\")"
      ],
      "metadata": {
        "id": "f_3goFjLzuV6",
        "outputId": "08087397-2a13-4228-d707-1eeb515ab5b9",
        "colab": {
          "base_uri": "https://localhost:8080/"
        }
      },
      "execution_count": 6,
      "outputs": [
        {
          "output_type": "stream",
          "name": "stdout",
          "text": [
            "=== Merge — Random Data ===\n",
            "N=  2000  t=0.004739s\n",
            "N=  4000  t=0.010714s\n",
            "N=  8000  t=0.022415s\n",
            "N= 16000  t=0.046129s\n",
            "Ratio  T(2N)/T(N):\n",
            "    2000 →   4000:  2.26\n",
            "    4000 →   8000:  2.09\n",
            "    8000 →  16000:  2.06\n",
            "Heuristic: ~2× → n log n\n",
            "\n",
            "=== Merge — Sorted Data ===\n",
            "N=  2000  t=0.005373s\n",
            "N=  4000  t=0.010085s\n",
            "N=  8000  t=0.020843s\n",
            "N= 16000  t=0.041582s\n",
            "Ratio  T(2N)/T(N):\n",
            "    2000 →   4000:  1.88\n",
            "    4000 →   8000:  2.07\n",
            "    8000 →  16000:  1.99\n",
            "Heuristic: ~2× → n log n\n",
            "\n"
          ]
        }
      ]
    },
    {
      "cell_type": "code",
      "source": [
        "N=8\n",
        "A = list(range(N))\n",
        "\n",
        "random.shuffle(A)\n",
        "\n",
        "print(A)\n",
        "Mergesort(A,0,N-1,True)\n",
        "print(A)"
      ],
      "metadata": {
        "colab": {
          "base_uri": "https://localhost:8080/"
        },
        "id": "RVXFjLS0nCeo",
        "outputId": "919a5d2c-c523-4227-8134-f5ed6919c988"
      },
      "execution_count": 7,
      "outputs": [
        {
          "output_type": "stream",
          "name": "stdout",
          "text": [
            "[5, 3, 1, 0, 4, 2, 7, 6]\n",
            "[3, 5, 1, 0, 4, 2, 7, 6]\n",
            "[3, 5, 0, 1, 4, 2, 7, 6]\n",
            "[0, 1, 3, 5, 4, 2, 7, 6]\n",
            "[0, 1, 3, 5, 2, 4, 7, 6]\n",
            "[0, 1, 3, 5, 2, 4, 6, 7]\n",
            "[0, 1, 3, 5, 2, 4, 6, 7]\n",
            "[0, 1, 2, 3, 4, 5, 6, 7]\n",
            "[0, 1, 2, 3, 4, 5, 6, 7]\n"
          ]
        }
      ]
    }
  ]
}