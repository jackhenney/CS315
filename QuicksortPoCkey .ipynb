{
  "nbformat": 4,
  "nbformat_minor": 0,
  "metadata": {
    "colab": {
      "provenance": [],
      "include_colab_link": true
    },
    "kernelspec": {
      "name": "python3",
      "display_name": "Python 3"
    },
    "language_info": {
      "name": "python"
    }
  },
  "cells": [
    {
      "cell_type": "markdown",
      "metadata": {
        "id": "view-in-github",
        "colab_type": "text"
      },
      "source": [
        "<a href=\"https://colab.research.google.com/github/jackhenney/CS315/blob/main/QuicksortPoCkey%20.ipynb\" target=\"_parent\"><img src=\"https://colab.research.google.com/assets/colab-badge.svg\" alt=\"Open In Colab\"/></a>"
      ]
    },
    {
      "cell_type": "code",
      "execution_count": null,
      "metadata": {
        "id": "t_LwP80OmwFK"
      },
      "outputs": [],
      "source": [
        "# Template for testing Quick-Sort on small lists, outputing each intermediate step"
      ]
    },
    {
      "cell_type": "code",
      "source": [
        "import random"
      ],
      "metadata": {
        "id": "LMcLd_etm-0Y"
      },
      "execution_count": 14,
      "outputs": []
    },
    {
      "cell_type": "code",
      "source": [
        "# Partition provided as a convenience\n",
        "\n",
        "def Partition(A,p,r):\n",
        "    x = A[r]\n",
        "    i = p - 1\n",
        "    for j in range(p,r):\n",
        "        if ( A[j] <= x ):\n",
        "            i = i + 1\n",
        "            #swap A[i] <--> A[j]\n",
        "            temp=A[i]\n",
        "            A[i]=A[j]\n",
        "            A[j]=temp\n",
        "    #swap A[i+1] <--> A[r]\n",
        "    temp=A[i+1]\n",
        "    A[i+1]=A[r]\n",
        "    A[r]=temp\n",
        "\n",
        "    return i + 1"
      ],
      "metadata": {
        "id": "TyWIYm1_nIYR"
      },
      "execution_count": 15,
      "outputs": []
    },
    {
      "cell_type": "code",
      "source": [
        "def Quicksort(A,p,r,print_flag):\n",
        "    if p < r:\n",
        "        q  = Partition(A , p , r)\n",
        "        if print_flag:\n",
        "            print(A)\n",
        "        Quicksort(A , p , q-1,print_flag)\n",
        "        Quicksort(A , q+1 , r,print_flag)"
      ],
      "metadata": {
        "id": "neX-YNcPnLpk"
      },
      "execution_count": 8,
      "outputs": []
    },
    {
      "cell_type": "code",
      "source": [
        "import time\n",
        "random.seed(42)\n",
        "\n",
        "def rand_list(n): return random.sample(range(10_000_000), n)\n",
        "def sorted_list(n): return list(range(n))\n",
        "def decreasing_list(n): return list(range(n, 0, -1))\n",
        "\n",
        "def time_once(func, arr):\n",
        "    a = arr.copy()\n",
        "    t0 = time.perf_counter()\n",
        "    func(a)\n",
        "    return time.perf_counter() - t0\n",
        "\n",
        "def bench(func, gen, Ns):\n",
        "    return [{\"N\": N, \"t\": time_once(func, gen(N))} for N in Ns]\n",
        "\n",
        "def show(rows, title):\n",
        "    print(title)\n",
        "    for r in rows:\n",
        "        print(f\"N={r['N']:>6}  t={r['t']:.6f}s\")\n",
        "    print(\"Ratio  T(2N)/T(N):\")\n",
        "    for i in range(1, len(rows)):\n",
        "        prev, cur = rows[i-1], rows[i]\n",
        "        ratio = cur[\"t\"]/prev[\"t\"] if prev[\"t\"] else float(\"inf\")\n",
        "        print(f\"  {prev['N']:>6} → {cur['N']:>6}:  {ratio:.2f}\")\n",
        "    print(\"Heuristic: ~2× → n log n,  ~4× → n²,  ~1× → n\\n\")"
      ],
      "metadata": {
        "id": "knwb67DsqF2D"
      },
      "execution_count": 10,
      "outputs": []
    },
    {
      "cell_type": "code",
      "source": [
        "# helpers cell (must also have bench(), show(), rand_list(), sorted_list(), decreasing_list() defined)\n",
        "import sys\n",
        "sys.setrecursionlimit(200000)\n",
        "\n",
        "Ns_nlg = [2000, 4000, 8000, 16000]   # random ~ n log n\n",
        "Ns_n2  = [500, 1000, 2000, 4000]     # worst-case ~ n^2\n",
        "\n",
        "# 5(a) Random input — average-case ~ n log n\n",
        "rows = bench(lambda arr: Quicksort(arr, 0, len(arr)-1, False), rand_list, Ns_nlg)\n",
        "show(rows, \"=== Quicksort — Random Data ===\")\n",
        "\n",
        "# 5(b-1) Sorted ascending — worst-case for Lomuto last-pivot (~ n^2)\n",
        "rows = bench(lambda arr: Quicksort(arr, 0, len(arr)-1, False), sorted_list, Ns_n2)\n",
        "show(rows, \"=== Quicksort — Sorted Ascending (worst-case) ===\")\n",
        "\n",
        "# 5(b-2) Decreasing — also worst-case (~ n^2)\n",
        "rows = bench(lambda arr: Quicksort(arr, 0, len(arr)-1, False), decreasing_list, Ns_n2)\n",
        "show(rows, \"=== Quicksort — Decreasing (worst-case) ===\")\n"
      ],
      "metadata": {
        "id": "1ALHeyASqK-l",
        "outputId": "ffc5b9bf-98d8-4322-899b-6a3845297fae",
        "colab": {
          "base_uri": "https://localhost:8080/"
        }
      },
      "execution_count": 16,
      "outputs": [
        {
          "output_type": "stream",
          "name": "stdout",
          "text": [
            "=== Quicksort — Random Data ===\n",
            "N=  2000  t=0.002734s\n",
            "N=  4000  t=0.007750s\n",
            "N=  8000  t=0.011890s\n",
            "N= 16000  t=0.026756s\n",
            "Ratio  T(2N)/T(N):\n",
            "    2000 →   4000:  2.83\n",
            "    4000 →   8000:  1.53\n",
            "    8000 →  16000:  2.25\n",
            "Heuristic: ~2× → n log n,  ~4× → n²,  ~1× → n\n",
            "\n",
            "=== Quicksort — Sorted Ascending (worst-case) ===\n",
            "N=   500  t=0.010526s\n",
            "N=  1000  t=0.046240s\n",
            "N=  2000  t=0.205957s\n",
            "N=  4000  t=0.868117s\n",
            "Ratio  T(2N)/T(N):\n",
            "     500 →   1000:  4.39\n",
            "    1000 →   2000:  4.45\n",
            "    2000 →   4000:  4.22\n",
            "Heuristic: ~2× → n log n,  ~4× → n²,  ~1× → n\n",
            "\n",
            "=== Quicksort — Decreasing (worst-case) ===\n",
            "N=   500  t=0.014973s\n",
            "N=  1000  t=0.036426s\n",
            "N=  2000  t=0.147144s\n",
            "N=  4000  t=0.994379s\n",
            "Ratio  T(2N)/T(N):\n",
            "     500 →   1000:  2.43\n",
            "    1000 →   2000:  4.04\n",
            "    2000 →   4000:  6.76\n",
            "Heuristic: ~2× → n log n,  ~4× → n²,  ~1× → n\n",
            "\n"
          ]
        }
      ]
    },
    {
      "cell_type": "code",
      "source": [
        "N=8\n",
        "A = list(range(N))\n",
        "\n",
        "random.shuffle(A)\n",
        "\n",
        "print(A)\n",
        "Quicksort(A,0,N-1,True)\n",
        "print(A)"
      ],
      "metadata": {
        "colab": {
          "base_uri": "https://localhost:8080/"
        },
        "id": "RVXFjLS0nCeo",
        "outputId": "4d58b26b-51fd-45f2-fcc9-5efe391b0db7"
      },
      "execution_count": 17,
      "outputs": [
        {
          "output_type": "stream",
          "name": "stdout",
          "text": [
            "[3, 5, 6, 1, 4, 7, 0, 2]\n",
            "[1, 0, 2, 3, 4, 7, 5, 6]\n",
            "[0, 1, 2, 3, 4, 7, 5, 6]\n",
            "[0, 1, 2, 3, 4, 5, 6, 7]\n",
            "[0, 1, 2, 3, 4, 5, 6, 7]\n",
            "[0, 1, 2, 3, 4, 5, 6, 7]\n",
            "[0, 1, 2, 3, 4, 5, 6, 7]\n"
          ]
        }
      ]
    }
  ]
}