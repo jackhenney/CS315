{
 "cells": [
  {
   "cell_type": "code",
   "metadata": {},
   "source": [
    "import random, time\n",
    "random.seed(42)\n",
    "\n",
    "def rand_list(n):   return random.sample(range(10_000_000), n)\n",
    "def sorted_list(n): return list(range(n))\n",
    "\n",
    "def time_once(func, arr):\n",
    "    a = arr.copy()\n",
    "    t0 = time.perf_counter()\n",
    "    func(a)\n",
    "    return time.perf_counter() - t0\n",
    "\n",
    "def bench(func, gen, Ns):\n",
    "    return [{\"N\": N, \"t\": time_once(func, gen(N))} for N in Ns]\n",
    "\n",
    "def show(rows, title):\n",
    "    print(title)\n",
    "    for r in rows:\n",
    "        print(f\"N={r['N']:>6}  t={r['t']:.6f}s\")\n",
    "    print(\"Ratio T(2N)/T(N):\")\n",
    "    for i in range(1, len(rows)):\n",
    "        p, c = rows[i-1], rows[i]\n",
    "        ratio = c[\"t\"]/p[\"t\"] if p[\"t\"] else float(\"inf\")\n",
    "        print(f\"  {p['N']:>6} → {c['N']:>6}: {ratio:.2f}\")\n",
    "    print(\"Heuristic: ~2× → n log n, ~1× → n\\n\")\n",
    "\n",
    "# one-arg wrappers for the built-ins\n",
    "def builtin_sorted(a):\n",
    "    _ = sorted(a)   # returns a new list\n",
    "    return a\n",
    "\n",
    "def builtin_list_sort(a):\n",
    "    a.sort()        # in-place\n",
    "    return a\n"
   ],
   "outputs": [],
   "execution_count": null
  },
  {
   "cell_type": "code",
   "metadata": {},
   "source": [
    "Ns = [2000, 4000, 8000, 16000]\n",
    "\n",
    "# Random data → expect ~n log n (ratios ≈ ~2×)\n",
    "rows = bench(builtin_sorted,    rand_list, Ns)\n",
    "show(rows, \"=== built-in sorted() — Random Data ===\")\n",
    "rows = bench(builtin_list_sort, rand_list, Ns)\n",
    "show(rows, \"=== built-in list.sort() — Random Data ===\")\n",
    "\n",
    "# Already-sorted data → Timsort is adaptive → near-linear (ratios ≈ ~1×)\n",
    "rows = bench(builtin_sorted,    sorted_list, Ns)\n",
    "show(rows, \"=== built-in sorted() — Sorted Data ===\")\n",
    "rows = bench(builtin_list_sort, sorted_list, Ns)\n",
    "show(rows, \"=== built-in list.sort() — Sorted Data ===\")\n"
   ],
   "outputs": [],
   "execution_count": null
  }
 ],
 "metadata": {
  "kernelspec": {
   "display_name": "Python 3",
   "language": "python",
   "name": "python3"
  },
  "language_info": {
   "name": "python",
   "version": "3.x"
  }
 },
 "nbformat": 4,
 "nbformat_minor": 5
}